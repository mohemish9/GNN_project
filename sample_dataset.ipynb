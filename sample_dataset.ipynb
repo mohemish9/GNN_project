{
 "cells": [
  {
   "cell_type": "code",
   "execution_count": 1,
   "id": "dd225f11-1aba-4999-ae18-bf1c7d39abd6",
   "metadata": {},
   "outputs": [],
   "source": [
    "import random"
   ]
  },
  {
   "cell_type": "code",
   "execution_count": 9,
   "id": "be45a8d9-f565-4631-9896-fc6234115ee3",
   "metadata": {},
   "outputs": [],
   "source": [
    "def select_random_lines(file_path, n):\n",
    "    with open(file_path, 'r') as file:\n",
    "        lines = file.readlines()\n",
    "    n = min(n, len(lines))\n",
    "    random_lines = random.sample(lines, n)\n",
    "    return random_lines\n",
    "\n",
    "def write_lines_to_file(lines, output_file_path):\n",
    "    with open(output_file_path, 'w') as file:\n",
    "        file.writelines(lines)\n",
    "\n",
    "def extract_numbers_from_lines(lines):\n",
    "    numbers = []\n",
    "    for line in lines:\n",
    "        numbers.extend(line.strip().split('\\t'))\n",
    "    return numbers\n",
    "    \n",
    "def filter_edges_by_nodes(input_file_path, output_file_path, selected_numbers_set):\n",
    "    with open(input_file_path, 'r') as input_file, open(output_file_path, 'w') as output_file:\n",
    "        for line in input_file:\n",
    "            if line.startswith('#'): \n",
    "                output_file.write(line)\n",
    "                continue\n",
    "            parts = line.strip().split('\\t')\n",
    "            if len(parts) == 2:  \n",
    "                from_node, to_node = parts\n",
    "                if from_node in selected_numbers_set and to_node in selected_numbers_set:\n",
    "                    output_file.write(line)"
   ]
  },
  {
   "cell_type": "code",
   "execution_count": 3,
   "id": "e23955a1-4640-44c9-a075-75706e75c751",
   "metadata": {},
   "outputs": [],
   "source": [
    "file_path = './dataset/com-amazon.top5000.cmty.txt'  \n",
    "n = 200  \n",
    "random_lines = select_random_lines(file_path, n)"
   ]
  },
  {
   "cell_type": "code",
   "execution_count": 6,
   "id": "2b4dc51b-bf9e-471c-a007-f288a3f14eb0",
   "metadata": {},
   "outputs": [],
   "source": [
    "output_file_path = './dataset/sampled_communities.txt'\n",
    "write_lines_to_file(random_lines, output_file_path)"
   ]
  },
  {
   "cell_type": "code",
   "execution_count": 7,
   "id": "e997b56b-31c9-473a-909f-f4886a582215",
   "metadata": {},
   "outputs": [],
   "source": [
    "numbers = extract_numbers_from_lines(random_lines)"
   ]
  },
  {
   "cell_type": "code",
   "execution_count": 10,
   "id": "17d799ae-1e63-4bf5-bced-142c82ccedbd",
   "metadata": {},
   "outputs": [],
   "source": [
    "numbers = set(numbers)"
   ]
  },
  {
   "cell_type": "code",
   "execution_count": 11,
   "id": "c43622a2-d540-41ea-bf63-67ad6b1d65e9",
   "metadata": {},
   "outputs": [],
   "source": [
    "input_file_path = './dataset/com-amazon.ungraph.txt'\n",
    "output_file_path = './dataset/rexampled_graph.txt'\n",
    "filter_edges_by_nodes(input_file_path, output_file_path, numbers)"
   ]
  },
  {
   "cell_type": "code",
   "execution_count": null,
   "id": "c815fa93-f905-42e9-8b9c-4b729fb0df25",
   "metadata": {},
   "outputs": [],
   "source": []
  }
 ],
 "metadata": {
  "kernelspec": {
   "display_name": "Python 3 (ipykernel)",
   "language": "python",
   "name": "python3"
  },
  "language_info": {
   "codemirror_mode": {
    "name": "ipython",
    "version": 3
   },
   "file_extension": ".py",
   "mimetype": "text/x-python",
   "name": "python",
   "nbconvert_exporter": "python",
   "pygments_lexer": "ipython3",
   "version": "3.11.2"
  }
 },
 "nbformat": 4,
 "nbformat_minor": 5
}
